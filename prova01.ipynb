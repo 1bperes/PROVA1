{
 "cells": [
  {
   "cell_type": "code",
   "execution_count": null,
   "id": "12bff8ae-5f18-400f-b6ad-2e9103e732bb",
   "metadata": {},
   "outputs": [],
   "source": [
    "\n",
    "#Entrada dos valores\n",
    "valor1 = int(input(\"Digite seu primeiro número: \"))\n",
    "valor2 = int(input(\"Digite seu segundo número: \"))\n",
    "valor3 = int(input(\"Digite seu terceiro número:\"))\n",
    "\n",
    "#Verificando se os valores são positivos\n",
    "if valor1 <= 0 or valor2 <= 0 or valor3 <= 0:\n",
    "    print(\"INVÁLIDO! APENAS VALORES POSITIVOS INTEIROS!!\")\n",
    "else: #Só vai rodar quando os numeros forem positivos!\n",
    "    #Criando uma lista com os valores em ordem\n",
    "    ordem_numeros = sorted([valor1, valor2, valor3])\n",
    "    \n",
    "    #Pegando os 2 maiores números\n",
    "    maiores_numeros = ordem_numeros[1:]\n",
    "    \n",
    "    #Calculando a média dos maiores\n",
    "    soma = maiores_numeros[0] + maiores_numeros[1]\n",
    "    media = soma / 2\n",
    "    \n",
    "    #Imprimindo o resultado\n",
    "    print(\"\\nRESULTADOS!!\")\n",
    "    print(\"-\" * 10)\n",
    "    print(f\"Os dois maiores valores são {maiores_numeros[0]} e {maiores_numeros[1]}\")\n",
    "    print(f\"A média deles é: {media}\")\n",
    "    print(\"-\" * 10)"
   ]
  },
  {
   "cell_type": "code",
   "execution_count": null,
   "id": "eeaefbd5-d031-4662-84b8-c81fb701a82e",
   "metadata": {},
   "outputs": [],
   "source": []
  }
 ],
 "metadata": {
  "kernelspec": {
   "display_name": "Python [conda env:base] *",
   "language": "python",
   "name": "conda-base-py"
  },
  "language_info": {
   "codemirror_mode": {
    "name": "ipython",
    "version": 3
   },
   "file_extension": ".py",
   "mimetype": "text/x-python",
   "name": "python",
   "nbconvert_exporter": "python",
   "pygments_lexer": "ipython3",
   "version": "3.12.7"
  }
 },
 "nbformat": 4,
 "nbformat_minor": 5
}
